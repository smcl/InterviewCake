{
 "cells": [
  {
   "cell_type": "code",
   "execution_count": 6,
   "metadata": {
    "collapsed": false
   },
   "outputs": [
    {
     "name": "stdout",
     "output_type": "stream",
     "text": [
      "1\n",
      "2\n",
      "3\n",
      "None\n",
      "test\n"
     ]
    }
   ],
   "source": [
    "class Stack(object):\n",
    "    def __init__(self):\n",
    "        self.stack = []\n",
    "        \n",
    "    def pop(self):\n",
    "        return self.stack.pop()\n",
    "    \n",
    "    def push(self, value):\n",
    "        self.stack.append(value)\n",
    "        \n",
    "    def count(self):\n",
    "        return len(self.stack)\n",
    "        \n",
    "class Queue(object):\n",
    "    def __init__(self):\n",
    "        self.mainStack = Stack()       \n",
    "        \n",
    "    def enqueue(self, value):\n",
    "        self.mainStack.push(value)\n",
    "        \n",
    "    def dequeue(self):\n",
    "        reverseStack = Stack()        \n",
    "        if (self.mainStack.count() == 0):\n",
    "            return None\n",
    "        if (self.mainStack.count() == 1):\n",
    "            return self.mainStack.pop()\n",
    "        \n",
    "        # let's reverse mainStack into reverseStack\n",
    "        e = self.mainStack.pop()\n",
    "        while(e):\n",
    "            reverseStack.push(e)\n",
    "            if self.mainStack.count():\n",
    "                e = self.mainStack.pop()\n",
    "            else:\n",
    "                e = None\n",
    "         \n",
    "        # take the top of reverse stack (front of the queue) and store it\n",
    "        retVal = reverseStack.pop()\n",
    "        \n",
    "        # and take reverseStack back into mainStack\n",
    "        e = reverseStack.pop()\n",
    "        while(e):\n",
    "            self.mainStack.push(e)\n",
    "            if reverseStack.count():\n",
    "                e = reverseStack.pop()\n",
    "            else:\n",
    "                e = None\n",
    "                \n",
    "        return retVal\n",
    "    \n",
    "\n",
    "q = Queue()\n",
    "\n",
    "q.enqueue(1)\n",
    "q.enqueue(2)\n",
    "q.enqueue(3)\n",
    "\n",
    "print(q.dequeue())\n",
    "print(q.dequeue())\n",
    "print(q.dequeue())\n",
    "print(q.dequeue())"
   ]
  },
  {
   "cell_type": "code",
   "execution_count": null,
   "metadata": {
    "collapsed": true
   },
   "outputs": [],
   "source": []
  }
 ],
 "metadata": {
  "kernelspec": {
   "display_name": "Python 3",
   "language": "python",
   "name": "python3"
  },
  "language_info": {
   "codemirror_mode": {
    "name": "ipython",
    "version": 3
   },
   "file_extension": ".py",
   "mimetype": "text/x-python",
   "name": "python",
   "nbconvert_exporter": "python",
   "pygments_lexer": "ipython3",
   "version": "3.5.3"
  }
 },
 "nbformat": 4,
 "nbformat_minor": 2
}
