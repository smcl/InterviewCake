{
 "cells": [
  {
   "cell_type": "markdown",
   "metadata": {},
   "source": [
    "https://www.interviewcake.com/question/python/single-rifle-check\n",
    "\n",
    "I suspect the online poker game I'm playing shuffles cards by doing a single \"riffle\"\n",
    "\n",
    "To prove this, let's write a function to tell us if a full deck of cards `shuffled_deck` is a single riffle of two other halves `half1` and `half2`.\n",
    "\n",
    "We'll represent a stack of cards as a list of integers in the range `1..52` (since there are 52 distinct cards in a deck).\n",
    "\n"
   ]
  },
  {
   "cell_type": "code",
   "execution_count": 17,
   "metadata": {
    "collapsed": false
   },
   "outputs": [
    {
     "name": "stdout",
     "output_type": "stream",
     "text": [
      "after calling riffle() once...\n",
      "True\n",
      "after calling riffle() twice...\n",
      "False\n"
     ]
    }
   ],
   "source": [
    "standard_deck = range(1, 53)\n",
    "\n",
    "def maybe_single_riffle(shuffled_deck):   \n",
    "    half1 = []\n",
    "    half2 = []\n",
    "    \n",
    "    for card in shuffled_deck:\n",
    "        added_to_a_half = False\n",
    "        \n",
    "        if (not half1) or (half1[-1] < card):\n",
    "            half1.append(card)\n",
    "            added_to_a_half = True\n",
    "        elif (not half2) or (half2[-1] < card):\n",
    "            half2.append(card)\n",
    "            added_to_a_half = True\n",
    "            \n",
    "        if not added_to_a_half:\n",
    "            return False\n",
    "    \n",
    "    return True\n",
    "\n",
    "def interleaved_index(index):\n",
    "    if index == 0:\n",
    "        return 0\n",
    "    else:\n",
    "        return int(index / 2)\n",
    "\n",
    "def perfect_riffle(deck):    \n",
    "    half1 = deck[0:26]\n",
    "    half2 = deck[26:52]\n",
    "    \n",
    "    new_deck = []\n",
    "    for to_index in range(52):\n",
    "        from_index = interleaved_index(to_index)\n",
    "        if to_index % 2 == 0:\n",
    "            new_deck.append(half1[from_index])\n",
    "        else:\n",
    "            new_deck.append(half2[from_index])\n",
    "\n",
    "    return new_deck\n",
    "\n",
    "def riffle(deck):\n",
    "    return perfect_riffle(deck)\n",
    "\n",
    "single_riffle = riffle(standard_deck)\n",
    "\n",
    "print(\"after calling riffle() once...\")\n",
    "print(maybe_single_riffle(single_riffle))\n",
    "\n",
    "double_riffle = riffle(single_riffle)\n",
    "\n",
    "print(\"after calling riffle() twice...\")\n",
    "print(maybe_single_riffle(double_riffle))"
   ]
  }
 ],
 "metadata": {
  "kernelspec": {
   "display_name": "Python 3",
   "language": "python",
   "name": "python3"
  },
  "language_info": {
   "codemirror_mode": {
    "name": "ipython",
    "version": 3
   },
   "file_extension": ".py",
   "mimetype": "text/x-python",
   "name": "python",
   "nbconvert_exporter": "python",
   "pygments_lexer": "ipython3",
   "version": "3.5.3"
  }
 },
 "nbformat": 4,
 "nbformat_minor": 2
}
