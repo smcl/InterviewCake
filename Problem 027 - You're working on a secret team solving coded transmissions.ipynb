{
 "cells": [
  {
   "cell_type": "markdown",
   "metadata": {
    "deletable": true,
    "editable": true
   },
   "source": [
    "Your team is scrambling to decipher a recent message, worried it's a plot to break into a major European National Cake Vault. The message has been mostly deciphered, but all the words are backwards! Your colleagues have handed off the last step to you.\n",
    "\n",
    "Write a function reverse_words() that takes a string message and reverses the order of the words in-place.\n",
    "\n",
    "> NOTE: Since strings in Python are immutable , we'll first convert the string into a list of characters, do the in-place word reversal on that list, and re-join that list into a string before returning it. This isn't technically \"in-place\" and the list of characters will cost O(n) additional space, but it's a reasonable way to stay within the spirit of the challenge. If you're comfortable coding in a language with mutable strings, that'd be even better!\n",
    "\n",
    "For example:\n",
    "\n",
    "    message = 'find you will pain only go you recordings security the into if'\n",
    "    reverse_words(message)\n",
    "    # returns: 'if into the security recordings you go only pain will you find'\n",
    "    \n",
    "When writing your function, assume the message contains only letters and spaces, and all words are separated by one space."
   ]
  },
  {
   "cell_type": "code",
   "execution_count": 19,
   "metadata": {
    "collapsed": false,
    "deletable": true,
    "editable": true
   },
   "outputs": [
    {
     "name": "stdout",
     "output_type": "stream",
     "text": [
      "if into the security recordings you go only pain will you find\n",
      "-1\n",
      "f\n"
     ]
    }
   ],
   "source": [
    "message = 'find you will pain only go you recordings security the into if'\n",
    "\n",
    "def cheatSolution(s):\n",
    "    return \" \".join(s.split(\" \")[::-1])\n",
    "\n",
    "def splitstr(s):\n",
    "    return [ c for c in s ]\n",
    "\n",
    "\n",
    "\n",
    "def nextrightstartpos(s, endidx=-1):\n",
    "    endpos = endidx if endidx > 0 else len(s)\n",
    "    for i,c in enumerate(s[:endidx:-1]):\n",
    "        if c == ' ':\n",
    "            return endpos-i\n",
    "    return -1\n",
    "\n",
    "\n",
    "print(cheatSolution(message))\n",
    "#reverse_words(message)\n",
    "\n",
    "p = nextrightstartpos(message)\n",
    "print(p)\n",
    "print(message[nextrightstartpos(message)])\n",
    "\n",
    "#i = nextrightstartpos(message)\n",
    "#while i > 0:\n",
    "#    print(message[i])\n",
    "#    i = nextrightstartpos(message, i-2)"
   ]
  },
  {
   "cell_type": "code",
   "execution_count": 15,
   "metadata": {
    "collapsed": false,
    "deletable": true,
    "editable": true
   },
   "outputs": [
    {
     "data": {
      "text/plain": [
       "['a', 'b']"
      ]
     },
     "execution_count": 15,
     "metadata": {},
     "output_type": "execute_result"
    }
   ],
   "source": []
  }
 ],
 "metadata": {
  "kernelspec": {
   "display_name": "Python 3",
   "language": "python",
   "name": "python3"
  },
  "language_info": {
   "codemirror_mode": {
    "name": "ipython",
    "version": 3
   },
   "file_extension": ".py",
   "mimetype": "text/x-python",
   "name": "python",
   "nbconvert_exporter": "python",
   "pygments_lexer": "ipython3",
   "version": "3.5.3"
  }
 },
 "nbformat": 4,
 "nbformat_minor": 2
}
