{
 "cells": [
  {
   "cell_type": "markdown",
   "metadata": {},
   "source": [
    "Delete a node from a singly-linked list, given only a variable pointing to that node.\n",
    "The input could, for example, be the variable b below:"
   ]
  },
  {
   "cell_type": "code",
   "execution_count": 7,
   "metadata": {
    "collapsed": false
   },
   "outputs": [
    {
     "name": "stdout",
     "output_type": "stream",
     "text": [
      "original list\n",
      "- A\n",
      "- B\n",
      "- C\n",
      "list after deleting \"B\"\n",
      "- A\n",
      "- B\n",
      "- C\n"
     ]
    }
   ],
   "source": [
    "# I'm going to assume that we can muck around with the values\n",
    "# so long as the underlying structure of the linked list is OK\n",
    "# NOTE: this won't work on the final node of a list :-/\n",
    "\n",
    "def delete_node(node):\n",
    "    prev = None\n",
    "    while node.next:\n",
    "        node.value = node.next.value\n",
    "        prev = node\n",
    "        node = node.next\n",
    "    \n",
    "    if prev:\n",
    "        prev.next = None\n",
    "        \n",
    "def dump_list(node):\n",
    "    print(\"- \" + node.value)\n",
    "    if node.next:\n",
    "        dump_list(node.next)\n",
    "\n",
    "class LinkedListNode:\n",
    "    def __init__(self, value):\n",
    "        self.value = value\n",
    "        self.next  = None\n",
    "\n",
    "a = LinkedListNode('A')\n",
    "b = LinkedListNode('B')\n",
    "c = LinkedListNode('C')\n",
    "\n",
    "a.next = b\n",
    "b.next = c\n",
    "\n",
    "print(\"original list\")\n",
    "dump_list(a)\n",
    "delete_node(c)\n",
    "\n",
    "print(\"list after deleting \\\"B\\\"\")\n",
    "dump_list(a)\n"
   ]
  }
 ],
 "metadata": {
  "kernelspec": {
   "display_name": "Python 3",
   "language": "python",
   "name": "python3"
  },
  "language_info": {
   "codemirror_mode": {
    "name": "ipython",
    "version": 3
   },
   "file_extension": ".py",
   "mimetype": "text/x-python",
   "name": "python",
   "nbconvert_exporter": "python",
   "pygments_lexer": "ipython3",
   "version": "3.5.3"
  }
 },
 "nbformat": 4,
 "nbformat_minor": 2
}
