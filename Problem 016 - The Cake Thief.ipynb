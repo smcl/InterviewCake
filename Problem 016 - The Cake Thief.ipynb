{
 "cells": [
  {
   "cell_type": "markdown",
   "metadata": {},
   "source": [
    "You are a renowned thief who has recently switched from stealing precious metals to stealing cakes because of the insane profit margins. You end up hitting the jackpot, breaking into the world's largest privately owned stock of cakes—the vault of the Queen of England.\n",
    "While Queen Elizabeth has a limited number of types of cake, she has an unlimited supply of each type.\n",
    "\n",
    "Each type of cake has a weight and a value, stored in a tuple with two indices:\n",
    "\n",
    "1. An integer representing the weight of the cake in kilograms\n",
    "2. An integer representing the monetary value of the cake in British pounds\n",
    "\n",
    "For example:"
   ]
  },
  {
   "cell_type": "code",
   "execution_count": 1,
   "metadata": {
    "collapsed": false
   },
   "outputs": [
    {
     "data": {
      "text/plain": [
       "(3, 90)"
      ]
     },
     "execution_count": 1,
     "metadata": {},
     "output_type": "execute_result"
    }
   ],
   "source": [
    "  # weighs 7 kilograms and has a value of 160 pounds\n",
    "(7, 160)\n",
    "\n",
    "# weighs 3 kilograms and has a value of 90 pounds\n",
    "(3, 90)\n"
   ]
  },
  {
   "cell_type": "markdown",
   "metadata": {},
   "source": [
    "You brought a duffel bag that can hold limited weight, and you want to make off with the most valuable haul possible.\n",
    "\n",
    "Write a function `max_duffel_bag_value()` that takes a list of cake type tuples and a weight capacity, and returns the maximum monetary value the duffel bag can hold.\n",
    "\n",
    "For example:\n",
    "\n"
   ]
  },
  {
   "cell_type": "code",
   "execution_count": 11,
   "metadata": {
    "collapsed": false
   },
   "outputs": [
    {
     "name": "stdout",
     "output_type": "stream",
     "text": [
      "6 2 90\n",
      "0 2 160\n",
      "1 0 15\n",
      "540\n"
     ]
    }
   ],
   "source": [
    "def cake_value(cake):\n",
    "    weight, pounds = cake\n",
    "    # cast to float maybe handles div-by-zero?\n",
    "    return float(weight) / float(pounds)\n",
    "    \n",
    "def max_duffel_bag_value_rec(cakes, capacity):      \n",
    "    \n",
    "    if not cakes or capacity == 0:\n",
    "        return 0\n",
    "    \n",
    "    weight, pounds = cakes[0]\n",
    "    num_best = int(capacity / weight)\n",
    "    remainder = capacity % weight\n",
    "    \n",
    "    print(num_best, remainder, pounds)\n",
    "    \n",
    "    if remainder > 0:\n",
    "        (num_best * pounds) + max_duffel_bag_value_rec(cakes[1:], remainder)\n",
    "        \n",
    "    return (num_best * pounds) \n",
    "    \n",
    "\n",
    "def max_duffel_bag_value(cakes, capacity):\n",
    "    # let's get most value per kilo\n",
    "    sorted_cakes = sorted(cakes, key = lambda c: cake_value(c))\n",
    "    \n",
    "    return max_duffel_bag_value_rec(sorted_cakes, capacity)\n",
    "    \n",
    "cake_tuples = [(7, 160), (3, 90), (2, 15)]\n",
    "capacity    = 20\n",
    "\n",
    "print(max_duffel_bag_value(cake_tuples, capacity))\n",
    "# returns 555 (6 of the middle type of cake and 1 of the last type of cake)\n"
   ]
  }
 ],
 "metadata": {
  "kernelspec": {
   "display_name": "Python 3",
   "language": "python",
   "name": "python3"
  },
  "language_info": {
   "codemirror_mode": {
    "name": "ipython",
    "version": 3
   },
   "file_extension": ".py",
   "mimetype": "text/x-python",
   "name": "python",
   "nbconvert_exporter": "python",
   "pygments_lexer": "ipython3",
   "version": "3.5.3"
  }
 },
 "nbformat": 4,
 "nbformat_minor": 2
}
